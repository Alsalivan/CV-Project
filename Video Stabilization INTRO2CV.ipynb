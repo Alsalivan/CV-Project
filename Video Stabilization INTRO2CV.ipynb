{
 "cells": [
  {
   "cell_type": "markdown",
   "metadata": {},
   "source": [
    "# Video Stabilization Using Point Feature Matching in OpenCV"
   ]
  },
  {
   "cell_type": "markdown",
   "metadata": {},
   "source": [
    "* This notebook is an implementation of algorithm of Point Feature Matching.\n",
    "\n",
    "* We used original [paper.](https://www.researchgate.net/publication/321589788_Video_Stabilization_Using_Point_Feature_Matching)\n",
    "\n",
    "* We decided to use our own small (~5 videos) database of shaky videos."
   ]
  },
  {
   "cell_type": "code",
   "execution_count": 1,
   "metadata": {},
   "outputs": [],
   "source": [
    "import numpy as np\n",
    "import cv2\n",
    "import matplotlib.pyplot as plt"
   ]
  },
  {
   "cell_type": "code",
   "execution_count": 2,
   "metadata": {},
   "outputs": [
    {
     "data": {
      "text/plain": [
       "'3.4.2'"
      ]
     },
     "execution_count": 2,
     "metadata": {},
     "output_type": "execute_result"
    }
   ],
   "source": [
    "cv2.__version__"
   ]
  },
  {
   "cell_type": "markdown",
   "metadata": {},
   "source": [
    "## Chose Level of 'Shaky Hands' and Get data"
   ]
  },
  {
   "cell_type": "code",
   "execution_count": 3,
   "metadata": {},
   "outputs": [],
   "source": [
    "level_of_shaky = {3 : 'strong',2 : 'small', 1 : 'no'}\n",
    "\n",
    "CHOSE_LVL_OF_SHAKY = 1\n",
    "\n",
    "lvl = level_of_shaky[CHOSE_LVL_OF_SHAKY]"
   ]
  },
  {
   "cell_type": "code",
   "execution_count": 4,
   "metadata": {},
   "outputs": [],
   "source": [
    "cap = cv2.VideoCapture('data/vitaly_{}.mp4'.format(lvl)) "
   ]
  },
  {
   "cell_type": "markdown",
   "metadata": {},
   "source": [
    "## Params for video"
   ]
  },
  {
   "cell_type": "markdown",
   "metadata": {},
   "source": [
    "### Number of frames"
   ]
  },
  {
   "cell_type": "code",
   "execution_count": 5,
   "metadata": {},
   "outputs": [
    {
     "data": {
      "text/plain": [
       "367"
      ]
     },
     "execution_count": 5,
     "metadata": {},
     "output_type": "execute_result"
    }
   ],
   "source": [
    "n_frames = int(cap.get(cv2.CAP_PROP_FRAME_COUNT)) \n",
    "n_frames"
   ]
  },
  {
   "cell_type": "markdown",
   "metadata": {},
   "source": [
    "### Width and height of video"
   ]
  },
  {
   "cell_type": "code",
   "execution_count": 6,
   "metadata": {},
   "outputs": [
    {
     "name": "stdout",
     "output_type": "stream",
     "text": [
      "Width is 640 and Height is 360\n"
     ]
    }
   ],
   "source": [
    "w = int(cap.get(cv2.CAP_PROP_FRAME_WIDTH)) \n",
    "h = int(cap.get(cv2.CAP_PROP_FRAME_HEIGHT))\n",
    "\n",
    "print('Width is {} and Height is {}'.format(w,h))"
   ]
  },
  {
   "cell_type": "markdown",
   "metadata": {},
   "source": [
    "### FPS"
   ]
  },
  {
   "cell_type": "code",
   "execution_count": 7,
   "metadata": {},
   "outputs": [
    {
     "data": {
      "text/plain": [
       "29.96554370723582"
      ]
     },
     "execution_count": 7,
     "metadata": {},
     "output_type": "execute_result"
    }
   ],
   "source": [
    "fps = cap.get(cv2.CAP_PROP_FPS)\n",
    "fps"
   ]
  },
  {
   "cell_type": "markdown",
   "metadata": {},
   "source": [
    "### Codec"
   ]
  },
  {
   "cell_type": "code",
   "execution_count": 8,
   "metadata": {},
   "outputs": [],
   "source": [
    "fourcc = cv2.VideoWriter_fourcc(*'MJPG')"
   ]
  },
  {
   "cell_type": "markdown",
   "metadata": {},
   "source": [
    "## First frame"
   ]
  },
  {
   "cell_type": "code",
   "execution_count": 9,
   "metadata": {},
   "outputs": [],
   "source": [
    "# If You want to see all pictures and videos on your laptop put here True and False otherwise\n",
    "# If You put True, after you see the image or video the kernel of notebook will shutdown \n",
    "# and you will need to restart it, BE CAREFULL!!\n",
    "# If You put False, pictures or video will be saved in output_data folder\n",
    "\n",
    "WANT_TO_SEE_PICTURE_OR_VIDEO = False"
   ]
  },
  {
   "cell_type": "code",
   "execution_count": 10,
   "metadata": {},
   "outputs": [],
   "source": [
    "presence, frame = cap.read()\n",
    "frame_gray = cv2.cvtColor(frame, cv2.COLOR_BGR2GRAY) \n",
    "\n",
    "if WANT_TO_SEE_PICTURE_OR_VIDEO:\n",
    "    cv2.imshow('First frame',frame_gray)\n",
    "    cv2.waitKey(0)\n",
    "    cv2.destroyAllWindows()\n",
    "    \n",
    "else:\n",
    "    filename = str('output_data/vit_first_frame_{}.jpg'.format(lvl))\n",
    "    cv2.imwrite(filename, frame_gray) "
   ]
  },
  {
   "cell_type": "markdown",
   "metadata": {},
   "source": [
    "## First 200 Key Points for first frame, using goodFeaturesToTrack"
   ]
  },
  {
   "cell_type": "code",
   "execution_count": 11,
   "metadata": {},
   "outputs": [],
   "source": [
    "presence, prev_frame = cap.read() \n",
    "old_gray = cv2.cvtColor(prev_frame, cv2.COLOR_BGR2GRAY) \n",
    "\n",
    "\n",
    "p0 = cv2.goodFeaturesToTrack(old_gray,\n",
    "                                     maxCorners=200,\n",
    "                                     qualityLevel=0.01,\n",
    "                                     minDistance=30,\n",
    "                                     blockSize=3)\n",
    "prev_corners = np.int0(p0)\n",
    "\n",
    "for i in prev_corners:\n",
    "    x,y = i.ravel()\n",
    "    img = cv2.circle(old_gray,(x,y),5,255,-1)\n",
    "    \n",
    "if WANT_TO_SEE_PICTURE_OR_VIDEO:\n",
    "    cv2.imshow('Key Points',img)\n",
    "    cv2.waitKey(0)\n",
    "    cv2.destroyAllWindows()\n",
    "    \n",
    "else:\n",
    "    filename = str('output_data/Key_Points_vit_{}.jpg'.format(lvl))\n",
    "    cv2.imwrite(filename, img) "
   ]
  },
  {
   "cell_type": "markdown",
   "metadata": {},
   "source": [
    "## Lucas Kanade Optical Flow for first 150 frames"
   ]
  },
  {
   "cell_type": "code",
   "execution_count": 12,
   "metadata": {},
   "outputs": [],
   "source": [
    "out_firstN = cv2.VideoWriter('output_data/150_first_vit_{}.avi'.format(lvl), fourcc, fps, (w, h))"
   ]
  },
  {
   "cell_type": "markdown",
   "metadata": {},
   "source": [
    "### You can see this video in output data and if you want to rewtire it set True"
   ]
  },
  {
   "cell_type": "code",
   "execution_count": 13,
   "metadata": {},
   "outputs": [],
   "source": [
    "WATCH_AND_REWRITE = False"
   ]
  },
  {
   "cell_type": "code",
   "execution_count": 14,
   "metadata": {},
   "outputs": [],
   "source": [
    "# Parametrs for optical flow method\n",
    "\n",
    "lk_params = dict( winSize  = (15,15),\n",
    "                  maxLevel = 2,\n",
    "                  criteria = (cv2.TERM_CRITERIA_EPS | cv2.TERM_CRITERIA_COUNT, 10, 0.03))"
   ]
  },
  {
   "cell_type": "code",
   "execution_count": 15,
   "metadata": {},
   "outputs": [],
   "source": [
    "color = np.random.randint(0,255,(200,3))\n",
    "\n",
    "mask = np.zeros_like(prev_frame)\n",
    "\n",
    "FRAMES = 150\n",
    "if WATCH_AND_REWRITE:\n",
    "    for i in range(FRAMES):\n",
    "        ret,frame = cap.read()\n",
    "        frame_gray = cv2.cvtColor(frame, cv2.COLOR_BGR2GRAY)\n",
    "\n",
    "        # calculate optical flow\n",
    "        p1, st, err = cv2.calcOpticalFlowPyrLK(old_gray, frame_gray, p0, None, **lk_params)\n",
    "\n",
    "        # Select good points\n",
    "        good_new = p1[st==1]\n",
    "        good_old = p0[st==1]\n",
    "\n",
    "        # draw the tracks\n",
    "        for i,(new,old) in enumerate(zip(good_new,good_old)):\n",
    "            a,b = new.ravel()\n",
    "            c,d = old.ravel()\n",
    "            mask = cv2.line(mask, (a,b),(c,d), color[i].tolist(), 2)\n",
    "            frame = cv2.circle(frame,(a,b),5,color[i].tolist(),-1)\n",
    "        img = cv2.add(frame,mask)\n",
    "\n",
    "        cv2.imshow('frame',img)\n",
    "        cv2.waitKey(30)\n",
    "\n",
    "        # Now update the previous frame and previous points\n",
    "        old_gray = frame_gray.copy()\n",
    "        p0 = good_new.reshape(-1,1,2)\n",
    "\n",
    "        out_firstN.write(img)\n",
    "\n",
    "    cap.release()\n",
    "    out_firstN.release()\n",
    "    cv2.destroyAllWindows()"
   ]
  },
  {
   "cell_type": "markdown",
   "metadata": {},
   "source": [
    "## Now we do such thing with all frames and get transformation matrix via method estimateRigidTransform \n",
    "### It is Euclidian transfrmation so we can get $dx,dy,da$"
   ]
  },
  {
   "cell_type": "code",
   "execution_count": 16,
   "metadata": {
    "collapsed": true
   },
   "outputs": [
    {
     "name": "stdout",
     "output_type": "stream",
     "text": [
      "Frame: 0/367 - Proceeded\n",
      "Frame: 1/367 - Proceeded\n",
      "Frame: 2/367 - Proceeded\n",
      "Frame: 3/367 - Proceeded\n",
      "Frame: 4/367 - Proceeded\n",
      "Frame: 5/367 - Proceeded\n",
      "Frame: 6/367 - Proceeded\n",
      "Frame: 7/367 - Proceeded\n",
      "Frame: 8/367 - Proceeded\n",
      "Frame: 9/367 - Proceeded\n",
      "Frame: 10/367 - Proceeded\n",
      "Frame: 11/367 - Proceeded\n",
      "Frame: 12/367 - Proceeded\n",
      "Frame: 13/367 - Proceeded\n",
      "Frame: 14/367 - Proceeded\n",
      "Frame: 15/367 - Proceeded\n",
      "Frame: 16/367 - Proceeded\n",
      "Frame: 17/367 - Proceeded\n",
      "Frame: 18/367 - Proceeded\n",
      "Frame: 19/367 - Proceeded\n",
      "Frame: 20/367 - Proceeded\n",
      "Frame: 21/367 - Proceeded\n",
      "Frame: 22/367 - Proceeded\n",
      "Frame: 23/367 - Proceeded\n",
      "Frame: 24/367 - Proceeded\n",
      "Frame: 25/367 - Proceeded\n",
      "Frame: 26/367 - Proceeded\n",
      "Frame: 27/367 - Proceeded\n",
      "Frame: 28/367 - Proceeded\n",
      "Frame: 29/367 - Proceeded\n",
      "Frame: 30/367 - Proceeded\n",
      "Frame: 31/367 - Proceeded\n",
      "Frame: 32/367 - Proceeded\n",
      "Frame: 33/367 - Proceeded\n",
      "Frame: 34/367 - Proceeded\n",
      "Frame: 35/367 - Proceeded\n",
      "Frame: 36/367 - Proceeded\n",
      "Frame: 37/367 - Proceeded\n",
      "Frame: 38/367 - Proceeded\n",
      "Frame: 39/367 - Proceeded\n",
      "Frame: 40/367 - Proceeded\n",
      "Frame: 41/367 - Proceeded\n",
      "Frame: 42/367 - Proceeded\n",
      "Frame: 43/367 - Proceeded\n",
      "Frame: 44/367 - Proceeded\n",
      "Frame: 45/367 - Proceeded\n",
      "Frame: 46/367 - Proceeded\n",
      "Frame: 47/367 - Proceeded\n",
      "Frame: 48/367 - Proceeded\n",
      "Frame: 49/367 - Proceeded\n",
      "Frame: 50/367 - Proceeded\n",
      "Frame: 51/367 - Proceeded\n",
      "Frame: 52/367 - Proceeded\n",
      "Frame: 53/367 - Proceeded\n",
      "Frame: 54/367 - Proceeded\n",
      "Frame: 55/367 - Proceeded\n",
      "Frame: 56/367 - Proceeded\n",
      "Frame: 57/367 - Proceeded\n",
      "Frame: 58/367 - Proceeded\n",
      "Frame: 59/367 - Proceeded\n",
      "Frame: 60/367 - Proceeded\n",
      "Frame: 61/367 - Proceeded\n",
      "Frame: 62/367 - Proceeded\n",
      "Frame: 63/367 - Proceeded\n",
      "Frame: 64/367 - Proceeded\n",
      "Frame: 65/367 - Proceeded\n",
      "Frame: 66/367 - Proceeded\n",
      "Frame: 67/367 - Proceeded\n",
      "Frame: 68/367 - Proceeded\n",
      "Frame: 69/367 - Proceeded\n",
      "Frame: 70/367 - Proceeded\n",
      "Frame: 71/367 - Proceeded\n",
      "Frame: 72/367 - Proceeded\n",
      "Frame: 73/367 - Proceeded\n",
      "Frame: 74/367 - Proceeded\n",
      "Frame: 75/367 - Proceeded\n",
      "Frame: 76/367 - Proceeded\n",
      "Frame: 77/367 - Proceeded\n",
      "Frame: 78/367 - Proceeded\n",
      "Frame: 79/367 - Proceeded\n",
      "Frame: 80/367 - Proceeded\n",
      "Frame: 81/367 - Proceeded\n",
      "Frame: 82/367 - Proceeded\n",
      "Frame: 83/367 - Proceeded\n",
      "Frame: 84/367 - Proceeded\n",
      "Frame: 85/367 - Proceeded\n",
      "Frame: 86/367 - Proceeded\n",
      "Frame: 87/367 - Proceeded\n",
      "Frame: 88/367 - Proceeded\n",
      "Frame: 89/367 - Proceeded\n",
      "Frame: 90/367 - Proceeded\n",
      "Frame: 91/367 - Proceeded\n",
      "Frame: 92/367 - Proceeded\n",
      "Frame: 93/367 - Proceeded\n",
      "Frame: 94/367 - Proceeded\n",
      "Frame: 95/367 - Proceeded\n",
      "Frame: 96/367 - Proceeded\n",
      "Frame: 97/367 - Proceeded\n",
      "Frame: 98/367 - Proceeded\n",
      "Frame: 99/367 - Proceeded\n",
      "Frame: 100/367 - Proceeded\n",
      "Frame: 101/367 - Proceeded\n",
      "Frame: 102/367 - Proceeded\n",
      "Frame: 103/367 - Proceeded\n",
      "Frame: 104/367 - Proceeded\n",
      "Frame: 105/367 - Proceeded\n",
      "Frame: 106/367 - Proceeded\n",
      "Frame: 107/367 - Proceeded\n",
      "Frame: 108/367 - Proceeded\n",
      "Frame: 109/367 - Proceeded\n",
      "Frame: 110/367 - Proceeded\n",
      "Frame: 111/367 - Proceeded\n",
      "Frame: 112/367 - Proceeded\n",
      "Frame: 113/367 - Proceeded\n",
      "Frame: 114/367 - Proceeded\n",
      "Frame: 115/367 - Proceeded\n",
      "Frame: 116/367 - Proceeded\n",
      "Frame: 117/367 - Proceeded\n",
      "Frame: 118/367 - Proceeded\n",
      "Frame: 119/367 - Proceeded\n",
      "Frame: 120/367 - Proceeded\n",
      "Frame: 121/367 - Proceeded\n",
      "Frame: 122/367 - Proceeded\n",
      "Frame: 123/367 - Proceeded\n",
      "Frame: 124/367 - Proceeded\n",
      "Frame: 125/367 - Proceeded\n",
      "Frame: 126/367 - Proceeded\n",
      "Frame: 127/367 - Proceeded\n",
      "Frame: 128/367 - Proceeded\n",
      "Frame: 129/367 - Proceeded\n",
      "Frame: 130/367 - Proceeded\n",
      "Frame: 131/367 - Proceeded\n",
      "Frame: 132/367 - Proceeded\n",
      "Frame: 133/367 - Proceeded\n",
      "Frame: 134/367 - Proceeded\n",
      "Frame: 135/367 - Proceeded\n",
      "Frame: 136/367 - Proceeded\n",
      "Frame: 137/367 - Proceeded\n",
      "Frame: 138/367 - Proceeded\n",
      "Frame: 139/367 - Proceeded\n",
      "Frame: 140/367 - Proceeded\n",
      "Frame: 141/367 - Proceeded\n",
      "Frame: 142/367 - Proceeded\n",
      "Frame: 143/367 - Proceeded\n",
      "Frame: 144/367 - Proceeded\n",
      "Frame: 145/367 - Proceeded\n",
      "Frame: 146/367 - Proceeded\n",
      "Frame: 147/367 - Proceeded\n",
      "Frame: 148/367 - Proceeded\n",
      "Frame: 149/367 - Proceeded\n",
      "Frame: 150/367 - Proceeded\n",
      "Frame: 151/367 - Proceeded\n",
      "Frame: 152/367 - Proceeded\n",
      "Frame: 153/367 - Proceeded\n",
      "Frame: 154/367 - Proceeded\n",
      "Frame: 155/367 - Proceeded\n",
      "Frame: 156/367 - Proceeded\n",
      "Frame: 157/367 - Proceeded\n",
      "Frame: 158/367 - Proceeded\n",
      "Frame: 159/367 - Proceeded\n",
      "Frame: 160/367 - Proceeded\n",
      "Frame: 161/367 - Proceeded\n",
      "Frame: 162/367 - Proceeded\n",
      "Frame: 163/367 - Proceeded\n",
      "Frame: 164/367 - Proceeded\n",
      "Frame: 165/367 - Proceeded\n",
      "Frame: 166/367 - Proceeded\n",
      "Frame: 167/367 - Proceeded\n",
      "Frame: 168/367 - Proceeded\n",
      "Frame: 169/367 - Proceeded\n",
      "Frame: 170/367 - Proceeded\n",
      "Frame: 171/367 - Proceeded\n",
      "Frame: 172/367 - Proceeded\n",
      "Frame: 173/367 - Proceeded\n",
      "Frame: 174/367 - Proceeded\n",
      "Frame: 175/367 - Proceeded\n",
      "Frame: 176/367 - Proceeded\n",
      "Frame: 177/367 - Proceeded\n",
      "Frame: 178/367 - Proceeded\n",
      "Frame: 179/367 - Proceeded\n",
      "Frame: 180/367 - Proceeded\n",
      "Frame: 181/367 - Proceeded\n",
      "Frame: 182/367 - Proceeded\n",
      "Frame: 183/367 - Proceeded\n",
      "Frame: 184/367 - Proceeded\n",
      "Frame: 185/367 - Proceeded\n",
      "Frame: 186/367 - Proceeded\n",
      "Frame: 187/367 - Proceeded\n",
      "Frame: 188/367 - Proceeded\n",
      "Frame: 189/367 - Proceeded\n",
      "Frame: 190/367 - Proceeded\n",
      "Frame: 191/367 - Proceeded\n",
      "Frame: 192/367 - Proceeded\n",
      "Frame: 193/367 - Proceeded\n",
      "Frame: 194/367 - Proceeded\n",
      "Frame: 195/367 - Proceeded\n",
      "Frame: 196/367 - Proceeded\n",
      "Frame: 197/367 - Proceeded\n",
      "Frame: 198/367 - Proceeded\n",
      "Frame: 199/367 - Proceeded\n",
      "Frame: 200/367 - Proceeded\n",
      "Frame: 201/367 - Proceeded\n",
      "Frame: 202/367 - Proceeded\n",
      "Frame: 203/367 - Proceeded\n",
      "Frame: 204/367 - Proceeded\n",
      "Frame: 205/367 - Proceeded\n",
      "Frame: 206/367 - Proceeded\n",
      "Frame: 207/367 - Proceeded\n",
      "Frame: 208/367 - Proceeded\n",
      "Frame: 209/367 - Proceeded\n",
      "Frame: 210/367 - Proceeded\n",
      "Frame: 211/367 - Proceeded\n",
      "Frame: 212/367 - Proceeded\n",
      "Frame: 213/367 - Proceeded\n",
      "Frame: 214/367 - Proceeded\n",
      "Frame: 215/367 - Proceeded\n",
      "Frame: 216/367 - Proceeded\n",
      "Frame: 217/367 - Proceeded\n",
      "Frame: 218/367 - Proceeded\n",
      "Frame: 219/367 - Proceeded\n",
      "Frame: 220/367 - Proceeded\n",
      "Frame: 221/367 - Proceeded\n",
      "Frame: 222/367 - Proceeded\n",
      "Frame: 223/367 - Proceeded\n",
      "Frame: 224/367 - Proceeded\n",
      "Frame: 225/367 - Proceeded\n",
      "Frame: 226/367 - Proceeded\n",
      "Frame: 227/367 - Proceeded\n",
      "Frame: 228/367 - Proceeded\n",
      "Frame: 229/367 - Proceeded\n",
      "Frame: 230/367 - Proceeded\n",
      "Frame: 231/367 - Proceeded\n",
      "Frame: 232/367 - Proceeded\n",
      "Frame: 233/367 - Proceeded\n",
      "Frame: 234/367 - Proceeded\n",
      "Frame: 235/367 - Proceeded\n",
      "Frame: 236/367 - Proceeded\n",
      "Frame: 237/367 - Proceeded\n",
      "Frame: 238/367 - Proceeded\n",
      "Frame: 239/367 - Proceeded\n",
      "Frame: 240/367 - Proceeded\n",
      "Frame: 241/367 - Proceeded\n",
      "Frame: 242/367 - Proceeded\n",
      "Frame: 243/367 - Proceeded\n",
      "Frame: 244/367 - Proceeded\n",
      "Frame: 245/367 - Proceeded\n",
      "Frame: 246/367 - Proceeded\n",
      "Frame: 247/367 - Proceeded\n",
      "Frame: 248/367 - Proceeded\n",
      "Frame: 249/367 - Proceeded\n",
      "Frame: 250/367 - Proceeded\n",
      "Frame: 251/367 - Proceeded\n",
      "Frame: 252/367 - Proceeded\n",
      "Frame: 253/367 - Proceeded\n",
      "Frame: 254/367 - Proceeded\n",
      "Frame: 255/367 - Proceeded\n",
      "Frame: 256/367 - Proceeded\n",
      "Frame: 257/367 - Proceeded\n",
      "Frame: 258/367 - Proceeded\n",
      "Frame: 259/367 - Proceeded\n",
      "Frame: 260/367 - Proceeded\n",
      "Frame: 261/367 - Proceeded\n",
      "Frame: 262/367 - Proceeded\n",
      "Frame: 263/367 - Proceeded\n",
      "Frame: 264/367 - Proceeded\n",
      "Frame: 265/367 - Proceeded\n",
      "Frame: 266/367 - Proceeded\n",
      "Frame: 267/367 - Proceeded\n",
      "Frame: 268/367 - Proceeded\n",
      "Frame: 269/367 - Proceeded\n",
      "Frame: 270/367 - Proceeded\n",
      "Frame: 271/367 - Proceeded\n",
      "Frame: 272/367 - Proceeded\n",
      "Frame: 273/367 - Proceeded\n",
      "Frame: 274/367 - Proceeded\n",
      "Frame: 275/367 - Proceeded\n",
      "Frame: 276/367 - Proceeded\n",
      "Frame: 277/367 - Proceeded\n",
      "Frame: 278/367 - Proceeded\n",
      "Frame: 279/367 - Proceeded\n",
      "Frame: 280/367 - Proceeded\n",
      "Frame: 281/367 - Proceeded\n",
      "Frame: 282/367 - Proceeded\n",
      "Frame: 283/367 - Proceeded\n",
      "Frame: 284/367 - Proceeded\n",
      "Frame: 285/367 - Proceeded\n",
      "Frame: 286/367 - Proceeded\n",
      "Frame: 287/367 - Proceeded\n",
      "Frame: 288/367 - Proceeded\n",
      "Frame: 289/367 - Proceeded\n",
      "Frame: 290/367 - Proceeded\n",
      "Frame: 291/367 - Proceeded\n",
      "Frame: 292/367 - Proceeded\n",
      "Frame: 293/367 - Proceeded\n",
      "Frame: 294/367 - Proceeded\n",
      "Frame: 295/367 - Proceeded\n",
      "Frame: 296/367 - Proceeded\n",
      "Frame: 297/367 - Proceeded\n",
      "Frame: 298/367 - Proceeded\n",
      "Frame: 299/367 - Proceeded\n",
      "Frame: 300/367 - Proceeded\n",
      "Frame: 301/367 - Proceeded\n",
      "Frame: 302/367 - Proceeded\n",
      "Frame: 303/367 - Proceeded\n",
      "Frame: 304/367 - Proceeded\n",
      "Frame: 305/367 - Proceeded\n",
      "Frame: 306/367 - Proceeded\n",
      "Frame: 307/367 - Proceeded\n",
      "Frame: 308/367 - Proceeded\n",
      "Frame: 309/367 - Proceeded\n",
      "Frame: 310/367 - Proceeded\n",
      "Frame: 311/367 - Proceeded\n",
      "Frame: 312/367 - Proceeded\n",
      "Frame: 313/367 - Proceeded\n",
      "Frame: 314/367 - Proceeded\n",
      "Frame: 315/367 - Proceeded\n",
      "Frame: 316/367 - Proceeded\n",
      "Frame: 317/367 - Proceeded\n",
      "Frame: 318/367 - Proceeded\n",
      "Frame: 319/367 - Proceeded\n",
      "Frame: 320/367 - Proceeded\n",
      "Frame: 321/367 - Proceeded\n",
      "Frame: 322/367 - Proceeded\n",
      "Frame: 323/367 - Proceeded\n",
      "Frame: 324/367 - Proceeded\n",
      "Frame: 325/367 - Proceeded\n",
      "Frame: 326/367 - Proceeded\n",
      "Frame: 327/367 - Proceeded\n",
      "Frame: 328/367 - Proceeded\n",
      "Frame: 329/367 - Proceeded\n",
      "Frame: 330/367 - Proceeded\n",
      "Frame: 331/367 - Proceeded\n"
     ]
    },
    {
     "name": "stdout",
     "output_type": "stream",
     "text": [
      "Frame: 332/367 - Proceeded\n",
      "Frame: 333/367 - Proceeded\n",
      "Frame: 334/367 - Proceeded\n",
      "Frame: 335/367 - Proceeded\n",
      "Frame: 336/367 - Proceeded\n",
      "Frame: 337/367 - Proceeded\n",
      "Frame: 338/367 - Proceeded\n",
      "Frame: 339/367 - Proceeded\n",
      "Frame: 340/367 - Proceeded\n",
      "Frame: 341/367 - Proceeded\n",
      "Frame: 342/367 - Proceeded\n",
      "Frame: 343/367 - Proceeded\n",
      "Frame: 344/367 - Proceeded\n",
      "Frame: 345/367 - Proceeded\n",
      "Frame: 346/367 - Proceeded\n",
      "Frame: 347/367 - Proceeded\n",
      "Frame: 348/367 - Proceeded\n",
      "Frame: 349/367 - Proceeded\n",
      "Frame: 350/367 - Proceeded\n",
      "Frame: 351/367 - Proceeded\n",
      "Frame: 352/367 - Proceeded\n",
      "Frame: 353/367 - Proceeded\n",
      "Frame: 354/367 - Proceeded\n",
      "Frame: 355/367 - Proceeded\n",
      "Frame: 356/367 - Proceeded\n",
      "Frame: 357/367 - Proceeded\n",
      "Frame: 358/367 - Proceeded\n",
      "Frame: 359/367 - Proceeded\n",
      "Frame: 360/367 - Proceeded\n",
      "Frame: 361/367 - Proceeded\n",
      "Frame: 362/367 - Proceeded\n",
      "Frame: 363/367 - Proceeded\n"
     ]
    }
   ],
   "source": [
    "presence, prev = cap.read() \n",
    "prev_gray = cv2.cvtColor(prev, cv2.COLOR_BGR2GRAY) \n",
    "\n",
    "transforms = np.zeros((n_frames-1, 3), np.float32) \n",
    "\n",
    "for i in range(n_frames-2):\n",
    "    \n",
    "    prev_pts = cv2.goodFeaturesToTrack(prev_gray,\n",
    "                                     maxCorners=200,\n",
    "                                     qualityLevel=0.01,\n",
    "                                     minDistance=30,\n",
    "                                     blockSize=3)\n",
    "\n",
    "    success, curr = cap.read() \n",
    "    \n",
    "    # check if we can read it\n",
    "    if not success: \n",
    "        break \n",
    "\n",
    "    curr_gray = cv2.cvtColor(curr, cv2.COLOR_BGR2GRAY) \n",
    "\n",
    "    # Track feature points\n",
    "    curr_pts, status, err = cv2.calcOpticalFlowPyrLK(prev_gray, curr_gray, prev_pts, None) \n",
    "\n",
    "    # Sanity check\n",
    "    assert prev_pts.shape == curr_pts.shape \n",
    "\n",
    "    # Valid points\n",
    "    idx = np.where(status==1)[0]\n",
    "    prev_pts = prev_pts[idx]\n",
    "    curr_pts = curr_pts[idx]\n",
    "\n",
    "    #Transformation matrix\n",
    "    m = cv2.estimateRigidTransform(prev_pts, curr_pts, fullAffine=False) \n",
    "    \n",
    "    # Translation\n",
    "    dx = m[0,2]\n",
    "    dy = m[1,2]\n",
    "\n",
    "    # Rotation angle\n",
    "    da = np.arctan2(m[1,0], m[0,0])\n",
    "\n",
    "    transforms[i] = [dx,dy,da]\n",
    "\n",
    "    prev_gray = curr_gray\n",
    "\n",
    "    print(\"Frame: \" + str(i) +  \"/\" + str(n_frames) + ' - Proceeded')"
   ]
  },
  {
   "cell_type": "markdown",
   "metadata": {},
   "source": [
    "## Trajectory from transformation matrix"
   ]
  },
  {
   "cell_type": "code",
   "execution_count": 17,
   "metadata": {},
   "outputs": [],
   "source": [
    "# Compute trajectory using cumulative sum of transformations\n",
    "trajectory = np.cumsum(transforms, axis=0) "
   ]
  },
  {
   "cell_type": "code",
   "execution_count": 18,
   "metadata": {},
   "outputs": [
    {
     "data": {
      "text/plain": [
       "(366, 3)"
      ]
     },
     "execution_count": 18,
     "metadata": {},
     "output_type": "execute_result"
    }
   ],
   "source": [
    "trajectory.shape"
   ]
  },
  {
   "cell_type": "code",
   "execution_count": 19,
   "metadata": {},
   "outputs": [
    {
     "data": {
      "image/png": "[encoded data removed]",
      "text/plain": [
       "<Figure size 1080x648 with 1 Axes>"
      ]
     },
     "metadata": {
      "needs_background": "light"
     },
     "output_type": "display_data"
    }
   ],
   "source": [
    "plt.figure(figsize = (15,9))\n",
    "plt.title('Trajectory of movement', fontsize = 18)\n",
    "\n",
    "plt.plot(trajectory[:,0],trajectory[:,1],'bo')\n",
    "plt.xlabel('X', fontsize=18)\n",
    "plt.ylabel('Y', fontsize=18, rotation = 0)\n",
    "\n",
    "plt.show()"
   ]
  },
  {
   "cell_type": "markdown",
   "metadata": {},
   "source": [
    "## Smoothed trajectory"
   ]
  },
  {
   "cell_type": "code",
   "execution_count": 20,
   "metadata": {},
   "outputs": [],
   "source": [
    "def movingAverage(curve, radius): \n",
    "    window_size = 2 * radius + 1\n",
    "    f = np.ones(window_size)/window_size \n",
    "    # Add padding to the boundaries \n",
    "    curve_pad = np.lib.pad(curve, (radius, radius), 'edge') \n",
    "    curve_smoothed = np.convolve(curve_pad, f, mode='same') \n",
    "    # Remove padding \n",
    "    curve_smoothed = curve_smoothed[radius:-radius]\n",
    "\n",
    "    return curve_smoothed"
   ]
  },
  {
   "cell_type": "code",
   "execution_count": 21,
   "metadata": {},
   "outputs": [],
   "source": [
    "# The larger the more stable the video, but less reactive to sudden panning\n",
    "SMOOTHING_RADIUS=50 \n",
    "\n",
    "def smooth(trajectory): \n",
    "    smoothed_trajectory = np.copy(trajectory) \n",
    "    # Filter the x, y and angle curves\n",
    "    for i in range(3):\n",
    "        smoothed_trajectory[:,i] = movingAverage(trajectory[:,i], radius=SMOOTHING_RADIUS)\n",
    "\n",
    "    return smoothed_trajectory\n",
    "\n",
    "# Create variable to store smoothed trajectory\n",
    "smoothed_trajectory = smooth(trajectory) "
   ]
  },
  {
   "cell_type": "code",
   "execution_count": 22,
   "metadata": {},
   "outputs": [
    {
     "data": {
      "image/png": "[encoded data removed]",
      "text/plain": [
       "<Figure size 1080x648 with 1 Axes>"
      ]
     },
     "metadata": {
      "needs_background": "light"
     },
     "output_type": "display_data"
    }
   ],
   "source": [
    "plt.figure(figsize = (15,9))\n",
    "plt.title('Smothed trajectory of movement', fontsize = 18)\n",
    "\n",
    "plt.plot(smoothed_trajectory[:,0],smoothed_trajectory[:,1],'bo')\n",
    "plt.xlabel('X', fontsize=18)\n",
    "plt.ylabel('Y', fontsize=18, rotation = 0)\n",
    "\n",
    "plt.show()"
   ]
  },
  {
   "cell_type": "code",
   "execution_count": 23,
   "metadata": {},
   "outputs": [
    {
     "name": "stdout",
     "output_type": "stream",
     "text": [
      "X from 4.355296611785889 to 54.16091537475586\n",
      "Y from -30.174541473388672 to -0.8083748817443848\n"
     ]
    }
   ],
   "source": [
    "print('X from {} to {}'.format(min(smoothed_trajectory[:,0]),max(smoothed_trajectory[:,0])))\n",
    "print('Y from {} to {}'.format(min(smoothed_trajectory[:,1]),max(smoothed_trajectory[:,1])))"
   ]
  },
  {
   "cell_type": "markdown",
   "metadata": {},
   "source": [
    "## Difference in trajectories"
   ]
  },
  {
   "cell_type": "code",
   "execution_count": 24,
   "metadata": {},
   "outputs": [],
   "source": [
    "# Calculate difference in smoothed_trajectory and trajectory\n",
    "difference = smoothed_trajectory - trajectory"
   ]
  },
  {
   "cell_type": "code",
   "execution_count": 25,
   "metadata": {},
   "outputs": [
    {
     "data": {
      "image/png": "[encoded data removed]",
      "text/plain": [
       "<Figure size 1080x648 with 1 Axes>"
      ]
     },
     "metadata": {
      "needs_background": "light"
     },
     "output_type": "display_data"
    }
   ],
   "source": [
    "plt.figure(figsize = (15,9))\n",
    "plt.title('Difference', fontsize = 18)\n",
    "\n",
    "plt.plot(difference[:,0],difference[:,1],'bo')\n",
    "plt.xlabel('X', fontsize=18)\n",
    "plt.ylabel('Y', fontsize=18, rotation = 0)\n",
    "\n",
    "plt.show()"
   ]
  },
  {
   "cell_type": "markdown",
   "metadata": {},
   "source": [
    "## Smoothed transformation"
   ]
  },
  {
   "cell_type": "code",
   "execution_count": 26,
   "metadata": {},
   "outputs": [],
   "source": [
    " # Calculate newer transformation array\n",
    "transforms_smooth = transforms + difference"
   ]
  },
  {
   "cell_type": "code",
   "execution_count": 27,
   "metadata": {},
   "outputs": [
    {
     "data": {
      "image/png": "[encoded data removed]",
      "text/plain": [
       "<Figure size 1080x648 with 1 Axes>"
      ]
     },
     "metadata": {
      "needs_background": "light"
     },
     "output_type": "display_data"
    }
   ],
   "source": [
    "plt.figure(figsize = (15,9))\n",
    "plt.title('Smoothed transformation', fontsize = 18)\n",
    "\n",
    "plt.plot(transforms_smooth[:,0],transforms_smooth[:,1],'bo')\n",
    "plt.xlabel('X', fontsize=18)\n",
    "plt.ylabel('Y', fontsize=18, rotation = 0)\n",
    "\n",
    "plt.show()"
   ]
  },
  {
   "cell_type": "markdown",
   "metadata": {},
   "source": [
    "### Two previous graphs on one slide"
   ]
  },
  {
   "cell_type": "code",
   "execution_count": 28,
   "metadata": {},
   "outputs": [
    {
     "data": {
      "image/png": "[encoded data removed]",
      "text/plain": [
       "<Figure size 1080x648 with 1 Axes>"
      ]
     },
     "metadata": {
      "needs_background": "light"
     },
     "output_type": "display_data"
    }
   ],
   "source": [
    "plt.figure(figsize = (15,9))\n",
    "plt.title('Transforms both', fontsize = 18)\n",
    "plt.plot(difference[:,0],difference[:,1],'ro')\n",
    "plt.plot(transforms_smooth[:,0],transforms_smooth[:,1],'bo')\n",
    "plt.xlabel('X', fontsize=18)\n",
    "plt.ylabel('Y', fontsize=18, rotation = 0)\n",
    "\n",
    "plt.show()"
   ]
  },
  {
   "cell_type": "markdown",
   "metadata": {},
   "source": [
    "## Now we aply Transformation matrix to each frame via WarpAffine"
   ]
  },
  {
   "cell_type": "markdown",
   "metadata": {},
   "source": [
    "If we have a motion specified as $(x, y, \\theta)$, the corresponding transformation matrix is given by:\n",
    "\n",
    "$$\\begin{align*} T = \\begin{bmatrix} \\cos \\theta & -\\sin \\theta & x \\\\ \\sin \\theta & \\cos \\theta & y \\\\ \\end{bmatrix} \\end{align*}$$"
   ]
  },
  {
   "cell_type": "markdown",
   "metadata": {},
   "source": [
    "## We scale the image without moving the center and use method getRotationMatrix2D"
   ]
  },
  {
   "cell_type": "code",
   "execution_count": 29,
   "metadata": {},
   "outputs": [],
   "source": [
    "def fixBorder(frame):\n",
    "    s = frame.shape\n",
    "    # Scale the image 4% without moving the center\n",
    "    \n",
    "    T = cv2.getRotationMatrix2D((s[1]/2, s[0]/2), 0, 1.04)\n",
    "    frame = cv2.warpAffine(frame, T, (s[1], s[0]))\n",
    "    return frame"
   ]
  },
  {
   "cell_type": "code",
   "execution_count": 30,
   "metadata": {},
   "outputs": [],
   "source": [
    "out = cv2.VideoWriter('output_data/vit_stabilized_{}.avi'.format(lvl), fourcc, fps, (2 * w, h))"
   ]
  },
  {
   "cell_type": "code",
   "execution_count": 31,
   "metadata": {},
   "outputs": [],
   "source": [
    "# Reset stream to first frame \n",
    "cap.set(cv2.CAP_PROP_POS_FRAMES, 0) \n",
    "\n",
    "for i in range(n_frames-2):\n",
    "    success, frame = cap.read() \n",
    "    if not success:\n",
    "        break\n",
    "\n",
    "    dx = transforms_smooth[i,0]\n",
    "    dy = transforms_smooth[i,1]\n",
    "    da = transforms_smooth[i,2]\n",
    "\n",
    "    # Matrix T\n",
    "    m = np.zeros((2,3), np.float32)\n",
    "    m[0,0] = np.cos(da)\n",
    "    m[0,1] = -np.sin(da)\n",
    "    m[1,0] = np.sin(da)\n",
    "    m[1,1] = np.cos(da)\n",
    "    m[0,2] = dx\n",
    "    m[1,2] = dy\n",
    "\n",
    "    # Apply affine wrapping to the given frame\n",
    "    frame_stabilized = cv2.warpAffine(frame, m, (w,h))\n",
    "    frame_stabilized = fixBorder(frame_stabilized) \n",
    "\n",
    "    # Write the frame to the file\n",
    "    frame_out = cv2.hconcat([frame, frame_stabilized])\n",
    "\n",
    "    # If the image is too big, resize it.\n",
    "    if(frame_out.shape[1] > 1920): \n",
    "        frame_out = cv2.resize(frame_out, (int(frame_out.shape[1]/2), int(frame_out.shape[0]/2)))\n",
    "\n",
    "    cv2.imshow(\"Before and After\", frame_out)\n",
    "    cv2.waitKey(30)\n",
    "    out.write(frame_out)\n",
    "    \n",
    "\n",
    "cap.release()\n",
    "out.release()\n",
    "cv2.destroyAllWindows()"
   ]
  },
  {
   "cell_type": "code",
   "execution_count": null,
   "metadata": {},
   "outputs": [],
   "source": []
  }
 ],
 "metadata": {
  "kernelspec": {
   "display_name": "Python 3",
   "language": "python",
   "name": "python3"
  },
  "language_info": {
   "codemirror_mode": {
    "name": "ipython",
    "version": 3
   },
   "file_extension": ".py",
   "mimetype": "text/x-python",
   "name": "python",
   "nbconvert_exporter": "python",
   "pygments_lexer": "ipython3",
   "version": "3.7.3"
  }
 },
 "nbformat": 4,
 "nbformat_minor": 2
}
